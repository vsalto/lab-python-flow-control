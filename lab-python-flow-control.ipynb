{
 "cells": [
  {
   "cell_type": "markdown",
   "id": "d3bfc191-8885-42ee-b0a0-bbab867c6f9f",
   "metadata": {
    "tags": []
   },
   "source": [
    "# Lab | Flow Control"
   ]
  },
  {
   "cell_type": "markdown",
   "id": "3851fcd1-cf98-4653-9c89-e003b7ec9400",
   "metadata": {},
   "source": [
    "## Exercise: Managing Customer Orders Optimized\n",
    "\n",
    "In the last lab, you were starting an online store that sells various products. To ensure smooth operations, you developed a program that manages customer orders and inventory.\n",
    "\n",
    "You did so without using flow control. Let's go a step further and improve this code.\n",
    "\n",
    "Follow the steps below to complete the exercise:\n",
    "\n",
    "1. Look at your code from the lab data structures, and improve repeated code with loops.\n",
    "\n",
    "2. Instead of asking the user to input the name of three products that a customer wants to order, do the following:\n",
    "    \n",
    "    a. Prompt the user to enter the name of a product that a customer wants to order.\n",
    "    \n",
    "    b. Add the product name to the \"customer_orders\" set.\n",
    "    \n",
    "    c. Ask the user if they want to add another product (yes/no).\n",
    "    \n",
    "    d. Continue the loop until the user does not want to add another product.\n",
    "\n",
    "3. Instead of updating the inventory by subtracting 1 from the quantity of each product, only do it for  the products that were ordered (those in \"customer_orders\")."
   ]
  },
  {
   "cell_type": "code",
   "execution_count": 1,
   "id": "c8297c5e",
   "metadata": {},
   "outputs": [],
   "source": [
    "products = [\"t-shirt\", \"mug\", \"hat\", \"book\", \"keychain\"]\n",
    "inventory = {}"
   ]
  },
  {
   "cell_type": "code",
   "execution_count": 2,
   "id": "894d0a63",
   "metadata": {},
   "outputs": [
    {
     "name": "stdout",
     "output_type": "stream",
     "text": [
      "Please enter the quantity of t-shirt in pieces25\n",
      "Please enter the quantity of mug in pieces36\n",
      "Please enter the quantity of hat in pieces56\n",
      "Please enter the quantity of book in pieces35\n",
      "Please enter the quantity of keychain in pieces23\n"
     ]
    },
    {
     "data": {
      "text/plain": [
       "{'t-shirt': '25', 'mug': '36', 'hat': '56', 'book': '35', 'keychain': '23'}"
      ]
     },
     "execution_count": 2,
     "metadata": {},
     "output_type": "execute_result"
    }
   ],
   "source": [
    "# Ask the user to input the quantity of each product available in the inventory. \n",
    "# Use the product names from the `products` list as keys in the `inventory` dictionary \n",
    "#and assign the respective quantities as values.\n",
    "#contacts = {'John': '312-555-1234', 'John': '111-111-1234', 'Paul': '312-555-3123', 'George': '312-555-3333', 'Ringo': '312-555-2222'}\n",
    "for i in products:\n",
    "    quantity = input('Please enter the quantity of ' + i + ' in pieces')\n",
    "    inventory [i] = quantity \n",
    "    \n",
    "inventory\n",
    "#input(\"Please enter your name: \")"
   ]
  },
  {
   "cell_type": "code",
   "execution_count": 3,
   "id": "d6ddbff9",
   "metadata": {},
   "outputs": [
    {
     "data": {
      "text/plain": [
       "set"
      ]
     },
     "execution_count": 3,
     "metadata": {},
     "output_type": "execute_result"
    }
   ],
   "source": [
    "#4. Create an empty set called `customer_orders`.\n",
    "customer_orders = set()\n",
    "type (customer_orders)"
   ]
  },
  {
   "cell_type": "code",
   "execution_count": 5,
   "id": "984b1885",
   "metadata": {},
   "outputs": [
    {
     "name": "stdout",
     "output_type": "stream",
     "text": [
      "Please enter the product that you want to order out of ['t-shirt', 'mug', 'hat', 'book', 'keychain']mug\n",
      "Do you want to add another product ot ouf the list? ['t-shirt', 'mug', 'hat', 'book', 'keychain'] (y/n)y\n",
      "Please enter the product that you want to order out of ['t-shirt', 'mug', 'hat', 'book', 'keychain']hat\n",
      "Do you want to add another product ot ouf the list? ['t-shirt', 'mug', 'hat', 'book', 'keychain'] (y/n)y\n",
      "Please enter the product that you want to order out of ['t-shirt', 'mug', 'hat', 'book', 'keychain']mug\n",
      "Do you want to add another product ot ouf the list? ['t-shirt', 'mug', 'hat', 'book', 'keychain'] (y/n)n\n"
     ]
    },
    {
     "data": {
      "text/plain": [
       "{'hat', 'mug'}"
      ]
     },
     "execution_count": 5,
     "metadata": {},
     "output_type": "execute_result"
    }
   ],
   "source": [
    "# 2. Instead of asking the user to input the name of three products that a customer wants to order, \n",
    "# do the following:\n",
    "# a. Prompt the user to enter the name of a product that a customer wants to order.\n",
    "# b. Add the product name to the \"customer_orders\" set.\n",
    "# c. Ask the user if they want to add another product (yes/no).\n",
    "# d. Continue the loop until the user does not want to add another product.\n",
    "\n",
    "answer = True\n",
    "while answer == True:\n",
    "    a = str(products)\n",
    "    order = input('Please enter the product that you want to order out of ' + a)\n",
    "    \n",
    "    while order not in a :\n",
    "        order = input(\"Product not found. Try again out of the product list: \" + a)\n",
    "    \n",
    "    customer_orders.add (order)\n",
    "    user_answer = input('Do you want to add another product ot ouf the list? ' + a + ' (y/n)')\n",
    "    \n",
    "    if user_answer == 'n':\n",
    "        answer = False          \n",
    "  \n",
    "\n"
   ]
  },
  {
   "cell_type": "code",
   "execution_count": 7,
   "id": "f9512fb4",
   "metadata": {},
   "outputs": [
    {
     "name": "stdout",
     "output_type": "stream",
     "text": [
      "55\n",
      "35\n"
     ]
    },
    {
     "data": {
      "text/plain": [
       "{'t-shirt': '25', 'mug': 35, 'hat': 55, 'book': '35', 'keychain': '23'}"
      ]
     },
     "execution_count": 7,
     "metadata": {},
     "output_type": "execute_result"
    }
   ],
   "source": [
    "# Instead of updating the inventory by subtracting 1 from the quantity of each product, \n",
    "# only do it for the products that were ordered (those in \"customer_orders\").\n",
    "for i in customer_orders:\n",
    "    quantity = int(inventory.get(i))\n",
    "    quantity = quantity - 1\n",
    "    inventory [i] = quantity\n",
    "    print(quantity)\n",
    "    \n",
    "inventory\n"
   ]
  },
  {
   "cell_type": "code",
   "execution_count": null,
   "id": "dbd174e0",
   "metadata": {},
   "outputs": [],
   "source": []
  }
 ],
 "metadata": {
  "kernelspec": {
   "display_name": "Python 3 (ipykernel)",
   "language": "python",
   "name": "python3"
  },
  "language_info": {
   "codemirror_mode": {
    "name": "ipython",
    "version": 3
   },
   "file_extension": ".py",
   "mimetype": "text/x-python",
   "name": "python",
   "nbconvert_exporter": "python",
   "pygments_lexer": "ipython3",
   "version": "3.11.7"
  }
 },
 "nbformat": 4,
 "nbformat_minor": 5
}
